{
  "cells": [
    {
      "cell_type": "code",
      "execution_count": null,
      "metadata": {
        "id": "T15jTPzbeC1T"
      },
      "outputs": [],
      "source": [
        "from keras.models import load_model\n",
        "from google.colab.patches import cv2_imshow\n",
        "from PIL import Image, ImageOps\n",
        "\n",
        "import numpy as np\n",
        "import cv2\n",
        "\n",
        "# Load the model\n",
        "model = load_model('keras_model.h5')\n",
        "\n",
        "# Create the array of the right shape to feed into the keras model\n",
        "# The 'length' or number of images you can put into the array is\n",
        "# determined by the first position in the shape tuple, in this case 1.\n",
        "\n",
        "data = np.ndarray(shape=(1, 224, 224, 3), dtype=np.float32)\n",
        "\n",
        "# Replace this with the path to your image\n",
        "# image = Image.open('/content/IMG_20220507_160628.jpg')\n",
        "image = Image.open('IMG_20220507_202741.jpg')\n",
        "\n",
        "#resize the image to a 224x224 with the same strategy as in TM2:\n",
        "#resizing the image to be at least 224x224 and then cropping from the center\n",
        "size = (224, 224)\n",
        "image = ImageOps.fit(image, size, Image.ANTIALIAS)\n",
        "\n",
        "#turn the image into a numpy array\n",
        "image_array = np.asarray(image)\n",
        "\n",
        "# Normalize the image\n",
        "normalized_image_array = (image_array.astype(np.float32) / 127.0) - 1\n",
        "\n",
        "# Load the image into the array\n",
        "data[0] = normalized_image_array\n",
        "\n",
        "#image read on opencv\n",
        "# image = cv2.imread('/content/IMG_20220507_160628.jpg')\n",
        "image = cv2.imread('IMG_20220507_202741.jpg')\n",
        "\n",
        "# show the image\n",
        "cv2_imshow(image)\n",
        "\n",
        "# run the inference\n",
        "prediction = model.predict(data)\n",
        "print(prediction)"
      ]
    }
  ],
  "metadata": {
    "colab": {
      "name": "Stone_tools_mineral-type.ipynb",
      "provenance": [],
      "collapsed_sections": []
    },
    "kernelspec": {
      "display_name": "Python 3",
      "name": "python3"
    },
    "language_info": {
      "name": "python"
    }
  },
  "nbformat": 4,
  "nbformat_minor": 0
}